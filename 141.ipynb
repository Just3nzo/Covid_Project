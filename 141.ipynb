{
  "cells": [
    {
      "cell_type": "markdown",
      "metadata": {
        "id": "view-in-github",
        "colab_type": "text"
      },
      "source": [
        "<a href=\"https://colab.research.google.com/github/Just3nzo/Covid_Project/blob/main/141.ipynb\" target=\"_parent\"><img src=\"https://colab.research.google.com/assets/colab-badge.svg\" alt=\"Open In Colab\"/></a>"
      ]
    },
    {
      "cell_type": "markdown",
      "metadata": {
        "id": "0bjrXd0X-W8O"
      },
      "source": [
        "## Objectives for this Part\n",
        "\n",
        "- Practice identifying opportunities for data analysis.\n",
        "- Practice performing EDA.\n",
        "- Practice working with data from Kaggle.\n",
        "- Practice visualizing data with Matplotlib & Seaborn.\n",
        "- Practice reading data, performing queries, and filtering data using Pandas.\n",
        "\n",
        "### COVID-19 crisis\n",
        "\n",
        "<div><img width=\"400px\" height=\"auto\" src=\"https://images.unsplash.com/photo-1574515944794-d6dedc7150de?ixlib=rb-1.2.1&ixid=MXwxMjA3fDB8MHxwaG90by1wYWdlfHx8fGVufDB8fHw%3D&auto=format&fit=crop&w=1532&q=80\" /></div>\n",
        "\n",
        "The world is still struggling with one of the most rapidly spreading pandemics.\n",
        "There are a lot of people who say that data is the best weapon we can use in this \"Corona Fight.\"\n",
        "\n",
        "Imagine that you are one of the best data scientists in your country.\n",
        "The president of your country asked you to analyze the COVID-19 patient-level data of South Korea and prepare your homeland for the next wave of the pandemic.\n",
        "You, as the lead data scientist of your country **have to create and prove a plan of fighting the pandemics in your country** by analyzing the provided data.\n",
        "You must get the most critical insights using learned data science techniques and present them to the lead of your country.\n",
        "\n",
        "The link to the [Kaggle dataset is here](https://www.kaggle.com/kimjihoo/coronavirusdataset/).\n",
        "\n",
        "\n",
        "## Requirements\n",
        "\n",
        "- Perform data cleaning and feature engineering. Work with features - handle missing data if needed, use Pandas date APIs, create other additional features. Done\n",
        "- Perform exploratory data analysis. Describe the data with basic statistical parameters - mean, median, quantiles, etc. Use parameters that give you the most important statistical insights of the data. Grouping the data and analyzing the groups - using Pandas aggregate methods. Visualize the data - you can use line, scatter, histogram plots, density plots, regplots, etc.\n",
        "- Provide clear explanations in your notebook. Your explanations should inform the reader what you are trying to achieve, what results did you get, and what these results mean.\n",
        "- Present the project - the data, methods, and results.\n",
        "- Provide suggestions about how your analysis can be improved.\n",
        "\n",
        "## Bonus Challenges\n",
        "\n",
        "As a data scientists you will spend significant amount of your time learning new things.\n",
        "Sometimes you will do that for fun, but most of the time you will have an urgent problem and you will need to quickly learn some new skill to be able to solve it.\n",
        "It is very important to gradually build this skill - it is extremely valuable for all data scientists.\n",
        "The bonus challenges are designed to simulate these types of situations.\n",
        "These challenges require you to do something that we haven't covered in the course yet.\n",
        "Instead of trying to do all of the bonus challenges, concentrate on just one or two and do them well.\n",
        "All of the bonus challenges are optional - no points will be deducted if you skip them.\n",
        "\n",
        "- Try dimensionality reduction algorithm (e.g. PCA, t-SNE, Autoencoder).\n",
        "- Try clustering your data.\n",
        "- Try a machine learning model to explain relationships between features and predict new values.\n",
        "- Try to use a statistical significance test.\n",
        "\n",
        "\n"
      ]
    }
  ],
  "metadata": {
    "kernelspec": {
      "display_name": "Python 3",
      "language": "python",
      "name": "python3"
    },
    "language_info": {
      "codemirror_mode": {
        "name": "ipython",
        "version": 3
      },
      "file_extension": ".py",
      "mimetype": "text/x-python",
      "name": "python",
      "nbconvert_exporter": "python",
      "pygments_lexer": "ipython3",
      "version": "3.7.7"
    },
    "colab": {
      "provenance": [],
      "collapsed_sections": [
        "xLc8hf0dOzje",
        "Avpz-qqEouz1",
        "uBhOWvfAD3P6",
        "ui0YBK_0wsDA",
        "_2ZaF1k4wwYC",
        "7byCGwaBfEB3",
        "H7ZN-0FuNL87",
        "QVKY-QkaAi8I",
        "yRK-ifTeqB1R",
        "UN_C49sJqUu8",
        "GZCsEvp-qpkw"
      ],
      "include_colab_link": true
    }
  },
  "nbformat": 4,
  "nbformat_minor": 0
}